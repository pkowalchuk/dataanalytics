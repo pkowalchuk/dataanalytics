{
 "cells": [
  {
   "cell_type": "code",
   "execution_count": 3,
   "id": "c68a1fec-c6f9-45e2-976c-d60a09be52f6",
   "metadata": {},
   "outputs": [],
   "source": [
    "import pandas as pd\n",
    "import numpy as np"
   ]
  },
  {
   "cell_type": "code",
   "execution_count": 8,
   "id": "a1e26643-29ab-4ec8-9d44-c027eeb54563",
   "metadata": {},
   "outputs": [],
   "source": [
    "data = {\n",
    "    'Depth (m)':np.random.uniform(1000,5000,10),\n",
    "    'Total Vertical Depth (m)': np.random.uniform(1500, 8000, 10),\n",
    "    'ROP (m/h)': np.random.uniform(5, 25, 10),\n",
    "    'Weight On Bit Driller (klbm)': np.random.uniform(2000, 6000, 10),\n",
    "    'Surface Torque (klbf.ft)': np.random.uniform(1000, 4000, 10),\n",
    "    'Surface RPM': np.random.uniform(80, 150, 10)\n",
    "} "
   ]
  },
  {
   "cell_type": "code",
   "execution_count": 9,
   "id": "934b00ec-e8cd-4144-a2de-83c3be700c89",
   "metadata": {},
   "outputs": [
    {
     "name": "stdout",
     "output_type": "stream",
     "text": [
      "{'Depth (m)': array([4016.79763516, 1828.9065829 , 2012.13704359, 3884.79530937,\n",
      "       3247.24430442, 3675.58501194, 1837.3077503 , 4470.97212688,\n",
      "       4653.85130251, 1988.36661732]), 'Total Vertical Depth (m)': array([2391.79926901, 7306.5221107 , 4273.73077047, 4687.15114423,\n",
      "       4031.62746359, 2896.86378577, 3227.07625219, 2538.71666318,\n",
      "       7568.05194268, 4228.13817955]), 'ROP (m/h)': array([16.1695606 ,  8.41841396, 14.80271973,  5.74106617,  9.17152623,\n",
      "        8.65584329, 21.30411308, 16.96185009,  5.24218823, 13.87698646]), 'Weight On Bit Driller (klbm)': array([5678.37962008, 2836.20137473, 4677.78800809, 3079.29829479,\n",
      "       2970.5678996 , 5127.68838721, 5636.89811935, 4057.0141077 ,\n",
      "       5661.00744702, 2541.72616344]), 'Surface Torque (klbf.ft)': array([1742.77599734, 1487.93822354, 3954.57825902, 1306.57368238,\n",
      "       1990.39871041, 2911.04363468, 3766.42640803, 3755.15899474,\n",
      "       1808.03084271, 1908.87439881]), 'Surface RPM': array([123.4975941 , 111.65906111, 133.63430938, 107.40314905,\n",
      "       128.06652177, 145.96753579,  91.48068455, 110.95631779,\n",
      "       104.1818676 , 143.52377963])}\n"
     ]
    }
   ],
   "source": [
    "print(data)"
   ]
  },
  {
   "cell_type": "code",
   "execution_count": 10,
   "id": "35ba1b18-6fe0-426c-a701-98c1aa3e258b",
   "metadata": {},
   "outputs": [],
   "source": [
    "df=pd.DataFrame(data)"
   ]
  },
  {
   "cell_type": "code",
   "execution_count": 11,
   "id": "ca78f308-c3fa-4e51-9219-1b2af24f5da8",
   "metadata": {},
   "outputs": [
    {
     "name": "stdout",
     "output_type": "stream",
     "text": [
      "     Depth (m)  Total Vertical Depth (m)  ROP (m/h)  \\\n",
      "0  4016.797635               2391.799269  16.169561   \n",
      "1  1828.906583               7306.522111   8.418414   \n",
      "2  2012.137044               4273.730770  14.802720   \n",
      "3  3884.795309               4687.151144   5.741066   \n",
      "4  3247.244304               4031.627464   9.171526   \n",
      "5  3675.585012               2896.863786   8.655843   \n",
      "6  1837.307750               3227.076252  21.304113   \n",
      "7  4470.972127               2538.716663  16.961850   \n",
      "8  4653.851303               7568.051943   5.242188   \n",
      "9  1988.366617               4228.138180  13.876986   \n",
      "\n",
      "   Weight On Bit Driller (klbm)  Surface Torque (klbf.ft)  Surface RPM  \n",
      "0                   5678.379620               1742.775997   123.497594  \n",
      "1                   2836.201375               1487.938224   111.659061  \n",
      "2                   4677.788008               3954.578259   133.634309  \n",
      "3                   3079.298295               1306.573682   107.403149  \n",
      "4                   2970.567900               1990.398710   128.066522  \n",
      "5                   5127.688387               2911.043635   145.967536  \n",
      "6                   5636.898119               3766.426408    91.480685  \n",
      "7                   4057.014108               3755.158995   110.956318  \n",
      "8                   5661.007447               1808.030843   104.181868  \n",
      "9                   2541.726163               1908.874399   143.523780  \n"
     ]
    }
   ],
   "source": [
    "print(df)"
   ]
  },
  {
   "cell_type": "code",
   "execution_count": 12,
   "id": "08bad198-51e3-4c5e-aa37-cdce512a00ef",
   "metadata": {},
   "outputs": [],
   "source": [
    "high_rop_rows = df[df['ROP (m/h)']>15]"
   ]
  },
  {
   "cell_type": "code",
   "execution_count": 13,
   "id": "3995d1f7-b743-4363-a67e-db5ccad91b22",
   "metadata": {},
   "outputs": [
    {
     "name": "stdout",
     "output_type": "stream",
     "text": [
      "     Depth (m)  Total Vertical Depth (m)  ROP (m/h)  \\\n",
      "0  4016.797635               2391.799269  16.169561   \n",
      "6  1837.307750               3227.076252  21.304113   \n",
      "7  4470.972127               2538.716663  16.961850   \n",
      "\n",
      "   Weight On Bit Driller (klbm)  Surface Torque (klbf.ft)  Surface RPM  \n",
      "0                   5678.379620               1742.775997   123.497594  \n",
      "6                   5636.898119               3766.426408    91.480685  \n",
      "7                   4057.014108               3755.158995   110.956318  \n"
     ]
    }
   ],
   "source": [
    "print(high_rop_rows)"
   ]
  },
  {
   "cell_type": "code",
   "execution_count": 14,
   "id": "49e5e43f-7fea-4293-8e20-9ff05daa5777",
   "metadata": {},
   "outputs": [],
   "source": [
    "import os"
   ]
  },
  {
   "cell_type": "code",
   "execution_count": 15,
   "id": "26475bfd-37b5-4372-a7ee-f1cac71588af",
   "metadata": {},
   "outputs": [
    {
     "name": "stdout",
     "output_type": "stream",
     "text": [
      "Working directory:  C:\\Users\\peter\\Documents\\dataanalytics\n"
     ]
    }
   ],
   "source": [
    "print(\"Working directory: \", os.getcwd())"
   ]
  },
  {
   "cell_type": "code",
   "execution_count": 16,
   "id": "04a1b696-bd6e-47af-8a0a-77fc1b070d98",
   "metadata": {},
   "outputs": [
    {
     "data": {
      "text/plain": [
       "str"
      ]
     },
     "execution_count": 16,
     "metadata": {},
     "output_type": "execute_result"
    }
   ],
   "source": [
    "type(os.getcwd())"
   ]
  },
  {
   "cell_type": "code",
   "execution_count": 17,
   "id": "63879008-98e9-4844-a1a9-a37ef922a27d",
   "metadata": {},
   "outputs": [
    {
     "data": {
      "text/plain": [
       "pandas.core.frame.DataFrame"
      ]
     },
     "execution_count": 17,
     "metadata": {},
     "output_type": "execute_result"
    }
   ],
   "source": [
    "type(df)"
   ]
  },
  {
   "cell_type": "code",
   "execution_count": 18,
   "id": "d288a7a4-2735-4672-9295-54e4420b7c54",
   "metadata": {},
   "outputs": [],
   "source": [
    "file_path = 'Data//ASCII//Well-CSV-1_GSS_DDRL_201229_5618.0m_TD.csv'\n",
    "df = pd.read_csv(file_path)"
   ]
  },
  {
   "cell_type": "code",
   "execution_count": 19,
   "id": "53918685-3227-48f3-aba9-02801945e0f2",
   "metadata": {},
   "outputs": [
    {
     "name": "stdout",
     "output_type": "stream",
     "text": [
      "       Depth (m)  Total Vertical Depth (m)   ROP (m/h)  Weight On Hook (klbm)  \\\n",
      "0          325.0                    325.00       30.59                 358.97   \n",
      "1          325.5                    325.50       24.71                 359.40   \n",
      "2          326.0                    326.00       25.18                 359.18   \n",
      "3          326.5                    326.50       21.11                 358.90   \n",
      "4          327.0                    327.00       26.31                 357.47   \n",
      "...          ...                       ...         ...                    ...   \n",
      "10583     5616.5                   5614.32       28.13                 743.99   \n",
      "10584     5617.0                   5614.82       17.71                 745.21   \n",
      "10585     5617.5                   5615.32       20.00                 744.24   \n",
      "10586     5618.0                   5615.82       20.49                 741.63   \n",
      "10587     5618.5                   5616.32       16.48                 746.16   \n",
      "\n",
      "       Weight On Bit Driller (klbm)  Surface Torque (klbf.ft)  \\\n",
      "0                              0.00                      0.11   \n",
      "1                              0.00                      0.11   \n",
      "2                              0.00                      0.12   \n",
      "3                              0.00                      0.12   \n",
      "4                              0.00                      0.12   \n",
      "...                             ...                       ...   \n",
      "10583                         24.15                     16.48   \n",
      "10584                         22.88                     16.66   \n",
      "10585                         23.97                     17.33   \n",
      "10586                         26.49                     18.46   \n",
      "10587                         23.08                     17.21   \n",
      "\n",
      "       Torque Min (klbf.ft)  Torque Max (klbf.ft)  \\\n",
      "0                      0.13                  0.10   \n",
      "1                      0.13                  0.10   \n",
      "2                      0.14                  0.10   \n",
      "3                      0.14                  0.10   \n",
      "4                      0.14                  0.10   \n",
      "...                     ...                   ...   \n",
      "10583                 14.88                 18.27   \n",
      "10584                 15.29                 18.10   \n",
      "10585                 15.85                 19.03   \n",
      "10586                 16.84                 20.14   \n",
      "10587                 14.05                 21.46   \n",
      "\n",
      "       Total RPM [Surface + DHM] (1/min)  DownHole RPM (1/min)  ...  \\\n",
      "0                                      0               -999.25  ...   \n",
      "1                                      0               -999.25  ...   \n",
      "2                                      0               -999.25  ...   \n",
      "3                                      0               -999.25  ...   \n",
      "4                                      0               -999.25  ...   \n",
      "...                                  ...                   ...  ...   \n",
      "10583                                144               -999.25  ...   \n",
      "10584                                143               -999.25  ...   \n",
      "10585                                142               -999.25  ...   \n",
      "10586                                143               -999.25  ...   \n",
      "10587                                132               -999.25  ...   \n",
      "\n",
      "       Pump4 Speed (1/min)  Mud Weight In at Bit (g/cm3)  \\\n",
      "0                        0                         1.071   \n",
      "1                        0                         1.073   \n",
      "2                        0                         1.073   \n",
      "3                        0                         1.073   \n",
      "4                        0                         1.073   \n",
      "...                    ...                           ...   \n",
      "10583                   80                         1.510   \n",
      "10584                   80                         1.510   \n",
      "10585                   80                         1.510   \n",
      "10586                   80                         1.510   \n",
      "10587                   80                         1.510   \n",
      "\n",
      "       Mud Weight Out (g/cm3)  Temperature In (degC)  Temperature Out (degC)  \\\n",
      "0                       0.000                   41.8                    29.0   \n",
      "1                       0.000                   41.8                    29.0   \n",
      "2                       0.000                   41.8                    29.1   \n",
      "3                       0.000                   41.8                    29.0   \n",
      "4                       0.000                   41.8                    29.1   \n",
      "...                       ...                    ...                     ...   \n",
      "10583                   1.499                   44.7                    56.5   \n",
      "10584                   1.475                   44.7                    56.6   \n",
      "10585                   1.481                   44.7                    55.9   \n",
      "10586                   1.495                   44.7                    56.9   \n",
      "10587                   1.442                   44.8                    57.1   \n",
      "\n",
      "       D-Exponent (h)  Pump time (h)  Bit Time (h)  \\\n",
      "0          -999.25000           0.25          0.04   \n",
      "1          -999.25000           0.26          0.05   \n",
      "2          -999.25000           0.28          0.07   \n",
      "3          -999.25000           0.31          0.10   \n",
      "4          -999.25000           0.33          0.12   \n",
      "...               ...            ...           ...   \n",
      "10583         0.91556          57.76         34.79   \n",
      "10584         1.02882          57.79         34.82   \n",
      "10585         1.00908          57.81         34.85   \n",
      "10586         1.00454          57.84         34.87   \n",
      "10587         1.01565          57.93         34.90   \n",
      "\n",
      "       TotalSurfaceCumRevOnBottom (bbl)  PSACTIVE (bbl)  \n",
      "0                                     0          458.60  \n",
      "1                                     0          459.23  \n",
      "2                                     0          459.39  \n",
      "3                                     0          459.22  \n",
      "4                                     0          459.37  \n",
      "...                                 ...             ...  \n",
      "10583                            301562         1020.43  \n",
      "10584                            301819         1020.34  \n",
      "10585                            302020         1020.37  \n",
      "10586                            302204         1020.24  \n",
      "10587                            302454         1020.05  \n",
      "\n",
      "[10588 rows x 25 columns]\n"
     ]
    }
   ],
   "source": [
    "print(df)"
   ]
  },
  {
   "cell_type": "code",
   "execution_count": 20,
   "id": "8653b665-38e6-46e9-a1fb-10a9e85745f9",
   "metadata": {},
   "outputs": [],
   "source": [
    "import lasio"
   ]
  },
  {
   "cell_type": "code",
   "execution_count": 21,
   "id": "9cb7e0c4-68c6-4d21-b26b-563326c6baec",
   "metadata": {},
   "outputs": [],
   "source": [
    "las_file_path = 'Data//LAS//Ironbark-1_L601_PWD_FNL_5618_210107.las'"
   ]
  },
  {
   "cell_type": "code",
   "execution_count": 22,
   "id": "fe866c47-44cf-49a6-8517-f36a266072ac",
   "metadata": {},
   "outputs": [],
   "source": [
    "wellDepth = lasio.read(las_file_path)"
   ]
  },
  {
   "cell_type": "code",
   "execution_count": 23,
   "id": "e89fba68-8f41-4013-a810-3b8c7a917403",
   "metadata": {},
   "outputs": [
    {
     "data": {
      "text/plain": [
       "lasio.las.LASFile"
      ]
     },
     "execution_count": 23,
     "metadata": {},
     "output_type": "execute_result"
    }
   ],
   "source": [
    "type(wellDepth)"
   ]
  },
  {
   "cell_type": "code",
   "execution_count": 24,
   "id": "82008535-f4ae-445d-8ad5-a1a5be4b996f",
   "metadata": {},
   "outputs": [
    {
     "name": "stdout",
     "output_type": "stream",
     "text": [
      "<lasio.las.LASFile object at 0x00000240B63F7C50>\n"
     ]
    }
   ],
   "source": [
    "print(wellDepth)"
   ]
  },
  {
   "cell_type": "code",
   "execution_count": 25,
   "id": "da6fd55f-5bcb-4395-8e57-b06482827623",
   "metadata": {},
   "outputs": [
    {
     "name": "stdout",
     "output_type": "stream",
     "text": [
      "                  TVD       ROP5        GR     BS     ADIA     DCAV      BLKP  \\\n",
      "DEPT                                                                            \n",
      "5149.9008  5147.71845  363.04760  139.8307  12.25  8.60851  9.97827  22.17362   \n",
      "5150.0532  5147.87085  365.89540  141.5770  12.25  8.60683  9.78155  22.01093   \n",
      "5150.2056  5148.02325  368.29870  141.4976  12.25  8.61056  9.83512  21.79732   \n",
      "5150.3580  5148.17565  370.60490  139.5926  12.25  8.61349  9.80798  21.69250   \n",
      "5150.5104  5148.32805  373.38760  139.3280  12.25  8.61627  9.62278  21.48180   \n",
      "...               ...        ...       ...    ...      ...      ...       ...   \n",
      "5617.4640  5615.27859   19.56661       NaN   8.50      NaN      NaN   3.07155   \n",
      "5617.6164  5615.43099   18.50491       NaN   8.50      NaN      NaN   2.91472   \n",
      "5617.7688  5615.58339   18.74196       NaN   8.50      NaN      NaN   2.74509   \n",
      "5617.9212  5615.73579   22.40186       NaN   8.50      NaN      NaN   2.59593   \n",
      "5618.0736  5615.88818   22.31246       NaN   8.50      NaN      NaN   2.45398   \n",
      "\n",
      "                HKLA      SWOB   CRPM  ...  SHKRSK  SHOCKS_ACC  VIB_LAT  \\\n",
      "DEPT                                   ...                                \n",
      "5149.9008  726.17646  -7.92256    NaN  ...     NaN         NaN      NaN   \n",
      "5150.0532  725.37375  -5.54208    NaN  ...     NaN         NaN      NaN   \n",
      "5150.2056  722.63870  -5.20610    NaN  ...     NaN         NaN      NaN   \n",
      "5150.3580  721.46187  -3.13933    NaN  ...     NaN         NaN      NaN   \n",
      "5150.5104  721.44357  -3.03448    NaN  ...     NaN         NaN      NaN   \n",
      "...              ...       ...    ...  ...     ...         ...      ...   \n",
      "5617.4640  706.53062  22.46012    NaN  ...     NaN         NaN      NaN   \n",
      "5617.6164  707.52844  21.07552  128.0  ...     0.0         0.0  0.24983   \n",
      "5617.7688  708.46364  20.19687    NaN  ...     NaN         NaN      NaN   \n",
      "5617.9212  706.43384  22.33131  144.0  ...     0.0         0.0  0.24983   \n",
      "5618.0736  708.96475  19.82329  152.0  ...     NaN         NaN  0.24983   \n",
      "\n",
      "             VIB_X       TFLO        SPPA    TRPM         DHAP   DHAT      ECD  \n",
      "DEPT                                                                            \n",
      "5149.9008      NaN        NaN  2478.39326     NaN  11236.27805  107.0  1.53537  \n",
      "5150.0532      NaN  546.15535  2484.90690     NaN  11228.92463  107.0  1.53432  \n",
      "5150.2056      NaN        NaN  2495.32496     NaN  11224.99991  107.0  1.53376  \n",
      "5150.3580      NaN        NaN  2502.69143     NaN  11224.66052  107.0  1.53364  \n",
      "5150.5104      NaN  546.15535  2499.73121     NaN  11224.42846  107.0  1.53357  \n",
      "...            ...        ...         ...     ...          ...    ...      ...  \n",
      "5617.4640      NaN  651.37797  3583.66494     NaN          NaN    NaN      NaN  \n",
      "5617.6164  0.12492  646.36742  3591.54049  3584.0          NaN    NaN      NaN  \n",
      "5617.7688      NaN  651.37797  3605.66282     NaN          NaN    NaN      NaN  \n",
      "5617.9212  0.12492  646.36742  3609.01609  3582.0          NaN    NaN      NaN  \n",
      "5618.0736  0.12492  651.37797  3563.08844     NaN          NaN    NaN      NaN  \n",
      "\n",
      "[3073 rows x 26 columns]\n"
     ]
    }
   ],
   "source": [
    "print(wellDepth.df())"
   ]
  },
  {
   "cell_type": "code",
   "execution_count": 26,
   "id": "e88a9959-88f3-46d5-b7d1-7e2333cfe665",
   "metadata": {},
   "outputs": [
    {
     "data": {
      "text/plain": [
       "pandas.core.frame.DataFrame"
      ]
     },
     "execution_count": 26,
     "metadata": {},
     "output_type": "execute_result"
    }
   ],
   "source": [
    "type(wellDepth.df())"
   ]
  },
  {
   "cell_type": "code",
   "execution_count": 27,
   "id": "b0e3b080-1bd7-4df2-9f68-d17536ede255",
   "metadata": {},
   "outputs": [],
   "source": [
    "las_file_path = 'Data/LAS/Ironbark-1_L601_PWD_FNL_TIME_210107.las'\n",
    "wellTime = lasio.read(las_file_path)"
   ]
  },
  {
   "cell_type": "code",
   "execution_count": 28,
   "id": "a92b5d54-8fcd-44df-9268-94efd80bfbc2",
   "metadata": {},
   "outputs": [
    {
     "name": "stdout",
     "output_type": "stream",
     "text": [
      "                              TIME  ROP5      DEPTH      BLKP       HKLA  \\\n",
      "TIME_1900                                                                  \n",
      "44190.842662  20:13:26/25-Dec-2020   NaN    0.27258   2.92894  218.12563   \n",
      "44190.842778  20:13:36/25-Dec-2020   NaN    0.28465   2.92894  218.41633   \n",
      "44190.842894  20:13:46/25-Dec-2020   NaN    0.29010   2.92894  218.19556   \n",
      "44190.843009  20:13:56/25-Dec-2020   NaN    0.27714   2.92894  218.11945   \n",
      "44190.843125  20:14:06/25-Dec-2020   NaN    0.29177   2.92894  218.47299   \n",
      "...                            ...   ...        ...       ...        ...   \n",
      "44195.407361  09:46:36/30-Dec-2020   NaN  139.03198  18.79906  229.36673   \n",
      "44195.407477  09:46:46/30-Dec-2020   NaN  138.91693  18.79906  228.54287   \n",
      "44195.407593  09:46:56/30-Dec-2020   NaN  139.01949  18.79906  229.15663   \n",
      "44195.407708  09:47:06/30-Dec-2020   NaN  138.92279  18.79906  228.57770   \n",
      "44195.407824  09:47:16/30-Dec-2020   NaN  139.05611  18.79906  229.13062   \n",
      "\n",
      "              SWOB  SHKL:1  SHKL:2  SHKL:3  SHKRSK  ...  STICKNSLIP  TFLO  \\\n",
      "TIME_1900                                           ...                     \n",
      "44190.842662   0.0     0.0     NaN     0.0     NaN  ...         NaN   NaN   \n",
      "44190.842778   0.0     0.0     NaN     0.0     NaN  ...         NaN   0.0   \n",
      "44190.842894   0.0     0.0     NaN     0.0     NaN  ...         NaN   0.0   \n",
      "44190.843009   0.0     0.0     NaN     NaN     NaN  ...         NaN   0.0   \n",
      "44190.843125   0.0     0.0     NaN     0.0     NaN  ...         NaN   0.0   \n",
      "...            ...     ...     ...     ...     ...  ...         ...   ...   \n",
      "44195.407361   0.0     0.0     NaN     NaN     NaN  ...         NaN   0.0   \n",
      "44195.407477   0.0     0.0     NaN     NaN     NaN  ...         NaN   0.0   \n",
      "44195.407593   0.0     0.0     NaN     NaN     NaN  ...         NaN   0.0   \n",
      "44195.407708   0.0     0.0     NaN     NaN     NaN  ...         NaN   0.0   \n",
      "44195.407824   0.0     0.0     NaN     NaN     NaN  ...         NaN   0.0   \n",
      "\n",
      "                  SPPA  TRPM      DHAP  DHAT      ECD  ESD  ESD_MAX  ESD_MIN  \n",
      "TIME_1900                                                                     \n",
      "44190.842662       NaN   NaN  66.00000  32.0      NaN  NaN      NaN      NaN  \n",
      "44190.842778  15.21288   NaN  66.99999  32.0      NaN  NaN      NaN      NaN  \n",
      "44190.842894  15.17578   NaN  66.99999  32.0      NaN  NaN      NaN      NaN  \n",
      "44190.843009  15.17279   NaN  66.00000  32.0      NaN  NaN      NaN      NaN  \n",
      "44190.843125  15.16193   NaN  66.99999  32.0      NaN  NaN      NaN      NaN  \n",
      "...                ...   ...       ...   ...      ...  ...      ...      ...  \n",
      "44195.407361  16.31917   NaN  12.00000  38.0  0.06637  NaN      NaN      NaN  \n",
      "44195.407477  16.31799   NaN  12.00000  38.0  0.06642  NaN      NaN      NaN  \n",
      "44195.407593  16.32816   NaN  13.00000  38.0  0.07194  NaN      NaN      NaN  \n",
      "44195.407708  16.32104   NaN  12.00000  38.0  0.06645  NaN      NaN      NaN  \n",
      "44195.407824  16.31978   NaN  12.00000  38.0  0.06638  NaN      NaN      NaN  \n",
      "\n",
      "[39444 rows x 26 columns]\n"
     ]
    }
   ],
   "source": [
    "print(wellTime.df())"
   ]
  },
  {
   "cell_type": "code",
   "execution_count": 31,
   "id": "41eab741-4340-4bd9-887f-9ff32b927bcf",
   "metadata": {},
   "outputs": [],
   "source": [
    "from bs4 import BeautifulSoup"
   ]
  },
  {
   "cell_type": "code",
   "execution_count": 34,
   "id": "4ef596d1-48d1-4c10-bab4-dc27f60e9b04",
   "metadata": {},
   "outputs": [],
   "source": [
    "WITSML_file = \"Data//WITSML//1-1.xml\"\n",
    "\n",
    "with open(WITSML_file) as f:\n",
    "    data = f.read()"
   ]
  },
  {
   "cell_type": "code",
   "execution_count": 35,
   "id": "8d9f7e8b-69ee-4030-a3f9-228a749845bc",
   "metadata": {},
   "outputs": [],
   "source": [
    "data_xml = BeautifulSoup(data,'xml')"
   ]
  },
  {
   "cell_type": "code",
   "execution_count": 36,
   "id": "c094d4c6-44e9-42b3-b3fd-e7577b80e2fa",
   "metadata": {},
   "outputs": [
    {
     "data": {
      "text/plain": [
       "bs4.BeautifulSoup"
      ]
     },
     "execution_count": 36,
     "metadata": {},
     "output_type": "execute_result"
    }
   ],
   "source": [
    "type(data_xml)"
   ]
  },
  {
   "cell_type": "code",
   "execution_count": 43,
   "id": "96803a93-9aea-4c0e-9ef7-4ce7ca450903",
   "metadata": {},
   "outputs": [],
   "source": [
    "temp = set([str(tag.name) for tag in data_xml.find_all()])"
   ]
  },
  {
   "cell_type": "code",
   "execution_count": 40,
   "id": "bae18c22-0c6b-42d6-aaf6-26823c65fc38",
   "metadata": {},
   "outputs": [
    {
     "data": {
      "text/plain": [
       "set"
      ]
     },
     "execution_count": 40,
     "metadata": {},
     "output_type": "execute_result"
    }
   ],
   "source": [
    "type(temp)"
   ]
  },
  {
   "cell_type": "code",
   "execution_count": 44,
   "id": "9188b4bd-0223-4255-8ce6-f8d397868535",
   "metadata": {},
   "outputs": [
    {
     "data": {
      "text/plain": [
       "{'azi',\n",
       " 'aziRef',\n",
       " 'aziVertSect',\n",
       " 'commonData',\n",
       " 'dTimCreation',\n",
       " 'dTimLastChange',\n",
       " 'dTimStn',\n",
       " 'dTimTrajEnd',\n",
       " 'dTimTrajStart',\n",
       " 'dispEw',\n",
       " 'dispEwVertSectOrig',\n",
       " 'dispNs',\n",
       " 'dispNsVertSectOrig',\n",
       " 'dls',\n",
       " 'gridCorUsed',\n",
       " 'incl',\n",
       " 'itemState',\n",
       " 'magDeclUsed',\n",
       " 'md',\n",
       " 'mdDelta',\n",
       " 'mdMn',\n",
       " 'mdMx',\n",
       " 'name',\n",
       " 'nameWell',\n",
       " 'nameWellbore',\n",
       " 'priv_customData',\n",
       " 'priv_dTimReceived',\n",
       " 'priv_ipLastChange',\n",
       " 'priv_ipOwner',\n",
       " 'priv_userLastChange',\n",
       " 'priv_userOwner',\n",
       " 'rateBuild',\n",
       " 'rateTurn',\n",
       " 'serviceCompany',\n",
       " 'sourceName',\n",
       " 'statusTrajStation',\n",
       " 'trajectory',\n",
       " 'trajectoryStation',\n",
       " 'trajectorys',\n",
       " 'tvd',\n",
       " 'tvdDelta',\n",
       " 'typeSurveyTool',\n",
       " 'typeTrajStation',\n",
       " 'vertSect'}"
      ]
     },
     "execution_count": 44,
     "metadata": {},
     "output_type": "execute_result"
    }
   ],
   "source": [
    "temp"
   ]
  },
  {
   "cell_type": "code",
   "execution_count": 51,
   "id": "83236ac4-dc8b-4d7b-8af6-092a6eb79d29",
   "metadata": {},
   "outputs": [],
   "source": [
    "columns = ['md', 'tvd', 'incl', 'azi', 'dispNs', 'dispEw']\n",
    "df = pd.DataFrame()"
   ]
  },
  {
   "cell_type": "code",
   "execution_count": 46,
   "id": "e24db15d-457a-45f4-b8a7-25c4e458038c",
   "metadata": {},
   "outputs": [
    {
     "data": {
      "text/html": [
       "<div>\n",
       "<style scoped>\n",
       "    .dataframe tbody tr th:only-of-type {\n",
       "        vertical-align: middle;\n",
       "    }\n",
       "\n",
       "    .dataframe tbody tr th {\n",
       "        vertical-align: top;\n",
       "    }\n",
       "\n",
       "    .dataframe thead th {\n",
       "        text-align: right;\n",
       "    }\n",
       "</style>\n",
       "<table border=\"1\" class=\"dataframe\">\n",
       "  <thead>\n",
       "    <tr style=\"text-align: right;\">\n",
       "      <th></th>\n",
       "    </tr>\n",
       "  </thead>\n",
       "  <tbody>\n",
       "  </tbody>\n",
       "</table>\n",
       "</div>"
      ],
      "text/plain": [
       "Empty DataFrame\n",
       "Columns: []\n",
       "Index: []"
      ]
     },
     "execution_count": 46,
     "metadata": {},
     "output_type": "execute_result"
    }
   ],
   "source": [
    "df"
   ]
  },
  {
   "cell_type": "code",
   "execution_count": 47,
   "id": "d596beb6-8669-4dd2-8567-903040311c40",
   "metadata": {},
   "outputs": [
    {
     "data": {
      "text/plain": [
       "pandas.core.frame.DataFrame"
      ]
     },
     "execution_count": 47,
     "metadata": {},
     "output_type": "execute_result"
    }
   ],
   "source": [
    "type(df)"
   ]
  },
  {
   "cell_type": "code",
   "execution_count": 52,
   "id": "fe7de898-37d3-4be4-afba-8d8e31e3fb62",
   "metadata": {},
   "outputs": [],
   "source": [
    "for col in columns:\n",
    "    df[col] = [float(x.text) for x in data_xml.find_all(col)]"
   ]
  },
  {
   "cell_type": "code",
   "execution_count": 53,
   "id": "37c296ab-9769-4b87-8c4c-70e0649cd30e",
   "metadata": {},
   "outputs": [
    {
     "data": {
      "text/html": [
       "<div>\n",
       "<style scoped>\n",
       "    .dataframe tbody tr th:only-of-type {\n",
       "        vertical-align: middle;\n",
       "    }\n",
       "\n",
       "    .dataframe tbody tr th {\n",
       "        vertical-align: top;\n",
       "    }\n",
       "\n",
       "    .dataframe thead th {\n",
       "        text-align: right;\n",
       "    }\n",
       "</style>\n",
       "<table border=\"1\" class=\"dataframe\">\n",
       "  <thead>\n",
       "    <tr style=\"text-align: right;\">\n",
       "      <th></th>\n",
       "      <th>md</th>\n",
       "      <th>tvd</th>\n",
       "      <th>incl</th>\n",
       "      <th>azi</th>\n",
       "      <th>dispNs</th>\n",
       "      <th>dispEw</th>\n",
       "    </tr>\n",
       "  </thead>\n",
       "  <tbody>\n",
       "    <tr>\n",
       "      <th>0</th>\n",
       "      <td>0.000000</td>\n",
       "      <td>0.000000</td>\n",
       "      <td>0.000000</td>\n",
       "      <td>0.000000</td>\n",
       "      <td>-3.170000</td>\n",
       "      <td>3.530000</td>\n",
       "    </tr>\n",
       "    <tr>\n",
       "      <th>1</th>\n",
       "      <td>145.899994</td>\n",
       "      <td>145.899994</td>\n",
       "      <td>0.000000</td>\n",
       "      <td>0.000000</td>\n",
       "      <td>-3.170000</td>\n",
       "      <td>3.530000</td>\n",
       "    </tr>\n",
       "    <tr>\n",
       "      <th>2</th>\n",
       "      <td>153.399994</td>\n",
       "      <td>153.399985</td>\n",
       "      <td>0.002618</td>\n",
       "      <td>4.427726</td>\n",
       "      <td>-3.172757</td>\n",
       "      <td>3.520578</td>\n",
       "    </tr>\n",
       "    <tr>\n",
       "      <th>3</th>\n",
       "      <td>234.199997</td>\n",
       "      <td>234.199627</td>\n",
       "      <td>0.004887</td>\n",
       "      <td>2.548530</td>\n",
       "      <td>-3.366177</td>\n",
       "      <td>3.529412</td>\n",
       "    </tr>\n",
       "    <tr>\n",
       "      <th>4</th>\n",
       "      <td>274.600006</td>\n",
       "      <td>274.597786</td>\n",
       "      <td>0.013614</td>\n",
       "      <td>2.377313</td>\n",
       "      <td>-3.646544</td>\n",
       "      <td>3.774881</td>\n",
       "    </tr>\n",
       "    <tr>\n",
       "      <th>...</th>\n",
       "      <td>...</td>\n",
       "      <td>...</td>\n",
       "      <td>...</td>\n",
       "      <td>...</td>\n",
       "      <td>...</td>\n",
       "      <td>...</td>\n",
       "    </tr>\n",
       "    <tr>\n",
       "      <th>75</th>\n",
       "      <td>3118.280029</td>\n",
       "      <td>2938.419040</td>\n",
       "      <td>0.382925</td>\n",
       "      <td>4.469265</td>\n",
       "      <td>-699.230295</td>\n",
       "      <td>-217.451880</td>\n",
       "    </tr>\n",
       "    <tr>\n",
       "      <th>76</th>\n",
       "      <td>3158.540039</td>\n",
       "      <td>2975.709107</td>\n",
       "      <td>0.390081</td>\n",
       "      <td>4.471534</td>\n",
       "      <td>-702.866857</td>\n",
       "      <td>-232.185777</td>\n",
       "    </tr>\n",
       "    <tr>\n",
       "      <th>77</th>\n",
       "      <td>3199.020020</td>\n",
       "      <td>3013.291014</td>\n",
       "      <td>0.371232</td>\n",
       "      <td>4.470487</td>\n",
       "      <td>-706.461696</td>\n",
       "      <td>-246.789120</td>\n",
       "    </tr>\n",
       "    <tr>\n",
       "      <th>78</th>\n",
       "      <td>3211.780029</td>\n",
       "      <td>3025.193506</td>\n",
       "      <td>0.366170</td>\n",
       "      <td>4.460363</td>\n",
       "      <td>-707.585751</td>\n",
       "      <td>-251.248326</td>\n",
       "    </tr>\n",
       "    <tr>\n",
       "      <th>79</th>\n",
       "      <td>3232.000000</td>\n",
       "      <td>3044.073003</td>\n",
       "      <td>0.366170</td>\n",
       "      <td>4.460363</td>\n",
       "      <td>-709.391062</td>\n",
       "      <td>-258.259222</td>\n",
       "    </tr>\n",
       "  </tbody>\n",
       "</table>\n",
       "<p>80 rows × 6 columns</p>\n",
       "</div>"
      ],
      "text/plain": [
       "             md          tvd      incl       azi      dispNs      dispEw\n",
       "0      0.000000     0.000000  0.000000  0.000000   -3.170000    3.530000\n",
       "1    145.899994   145.899994  0.000000  0.000000   -3.170000    3.530000\n",
       "2    153.399994   153.399985  0.002618  4.427726   -3.172757    3.520578\n",
       "3    234.199997   234.199627  0.004887  2.548530   -3.366177    3.529412\n",
       "4    274.600006   274.597786  0.013614  2.377313   -3.646544    3.774881\n",
       "..          ...          ...       ...       ...         ...         ...\n",
       "75  3118.280029  2938.419040  0.382925  4.469265 -699.230295 -217.451880\n",
       "76  3158.540039  2975.709107  0.390081  4.471534 -702.866857 -232.185777\n",
       "77  3199.020020  3013.291014  0.371232  4.470487 -706.461696 -246.789120\n",
       "78  3211.780029  3025.193506  0.366170  4.460363 -707.585751 -251.248326\n",
       "79  3232.000000  3044.073003  0.366170  4.460363 -709.391062 -258.259222\n",
       "\n",
       "[80 rows x 6 columns]"
      ]
     },
     "execution_count": 53,
     "metadata": {},
     "output_type": "execute_result"
    }
   ],
   "source": [
    "df"
   ]
  },
  {
   "cell_type": "code",
   "execution_count": 55,
   "id": "1bb88787-6daa-4b2c-a3aa-cd716a6b9cc9",
   "metadata": {},
   "outputs": [],
   "source": [
    "import matplotlib\n",
    "matplotlib.use('TkAgg')\n",
    "\n",
    "import matplotlib.pyplot as plt\n",
    "from mpl_toolkits.mplot3d import Axes3D"
   ]
  },
  {
   "cell_type": "code",
   "execution_count": 59,
   "id": "3b92da9b-7310-425f-9cb6-18b3b9095ee9",
   "metadata": {},
   "outputs": [
    {
     "data": {
      "text/plain": [
       "[<mpl_toolkits.mplot3d.art3d.Line3D at 0x240c4d0f1d0>]"
      ]
     },
     "execution_count": 59,
     "metadata": {},
     "output_type": "execute_result"
    }
   ],
   "source": [
    "fig = plt.figure()\n",
    "ax = fig.add_subplot(projection='3d')\n",
    "\n",
    "ax.plot(df['dispNs'], df['dispEw'], df['tvd']*-1, '-r', linewidth = 2)\n"
   ]
  },
  {
   "cell_type": "code",
   "execution_count": 60,
   "id": "9a56bab7-39be-4bf5-b0ee-b0133f8c4060",
   "metadata": {},
   "outputs": [],
   "source": [
    "ax.get_proj = lambda: np.dot(Axes3D.get_proj(ax), np.diag([0.5, 0.5,1.5, 1]))\n",
    " \n",
    "fig.show()"
   ]
  },
  {
   "cell_type": "code",
   "execution_count": null,
   "id": "2a3fba96-479a-4c42-83ab-64e7661d0a8b",
   "metadata": {},
   "outputs": [],
   "source": []
  }
 ],
 "metadata": {
  "kernelspec": {
   "display_name": "Python 3 (ipykernel)",
   "language": "python",
   "name": "python3"
  },
  "language_info": {
   "codemirror_mode": {
    "name": "ipython",
    "version": 3
   },
   "file_extension": ".py",
   "mimetype": "text/x-python",
   "name": "python",
   "nbconvert_exporter": "python",
   "pygments_lexer": "ipython3",
   "version": "3.12.4"
  }
 },
 "nbformat": 4,
 "nbformat_minor": 5
}
