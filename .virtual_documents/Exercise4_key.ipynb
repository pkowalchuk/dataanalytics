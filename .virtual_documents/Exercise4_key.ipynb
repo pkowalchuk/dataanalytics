from welly import Well
from welly import Curve


well = Well.from_las('Data/LAS/8267_a0801_1996_comp.las')
well


tracks = ['MD','GR',['NPIH','RHOB','DRHO'],'DT']
well.plot(tracks=tracks)


well.data['GR']


gr = well.data['GR']
gr.describe()


type(well)


type(gr)


gr[2600:3100].describe()


import welly.quality as quality


test = {'Each':[quality.no_flat, quality.no_gaps, quality.not_empty],'GR':[quality.all_above(25)]}


data_qc_table = well.qc_table_html(test)


type(data_qc_table)


data_qc_table


from IPython.display import HTML


HTML(data_qc_table)


test = {'Each':[quality.no_flat, quality.no_gaps, quality.not_empty,quality.count_spikes,quality.no_spikes(100)],'GR':[quality.all_above(25)]}
data_qc_table = well.qc_table_html(test)
HTML(data_qc_table)


well_df = well.df()
well_df


gamma_df = gr.df
gamma_df


type(gamma_df)


type(gr.df)


len(well_df)


len(gamma_df)


class Curve:
    def __init__(self, well_name, well_location, curve_name, data):
        self.well_name = well_name
        self.well_location = well_location
        self.curve_name = curve_name
        self.data = data

    def get_well_name(self):
        return self.well_name

    def get_well_location(self):
        return self.well_location

    def get_curve_name(self):
        return self.curve_name

    def get_data(self, start=None, end=None):
        if start is None and end is None:
            return self.data
        elif start is None:
            return self.data[self.data.index <= end]
        elif end is None:
            return self.data[self.data.index >= start]
        else:
            return self.data[(self.data.index >= start) & (self.data.index <= end)]


curve = Curve('well 1','field 1','gamma ray',gamma_df)


print("Well name: " + curve.get_well_name() 
      + "\nLocation: " + curve.get_well_location() 
      + "\nCurve name: " + curve.get_curve_name() 
      + "\nData:\n" + str(curve.get_data(30,3000)))


type(curve.get_data(30,3000))


print("Well name: " + curve.well_name 
      + "\nLocation: " + curve.well_location 
      + "\nCurve name: " + curve.curve_name 
      + "\nData:\n" + str(curve.data[30:3000]))


import lasio

las_file_path = 'Data\\LAS\\8267_a0801_1996_comp.las'

well = lasio.read(las_file_path)

df=well.df()
df[30:3000]


import pandas as pd


file_path = 'Data//ASCII//Swell-1A_AsciiDrillData_183.0-5006.csv'
df = pd.read_csv(file_path)
df.head()


columns = df.columns


type(columns)


df = pd.read_csv(file_path,skiprows=1)
df.head()


df.columns = columns
df.head()


df.plot(subplots=True, figsize=(15,30) )


import numpy as np

df.replace(-999.25,np.nan,inplace=True)
df.head()


column


df[column].isna()


for column in df.columns:
    count_nan = df[column].isna().sum()
    print(f"{column}: {count_nan}")


def replace_one_nan_with_avge(df, column_name):
    for i in range(1,len(df[column_name]) -1 ):
        if pd.isna(df.at[i,column_name]):
            if not pd.isna(df.at[i-1,column_name]) and not pd.isna(df.at[i+1,column_name]):
                df.at[i,column_name] = (df.at[i-1,column_name]+df.at[i+1,column_name])/2
            else:
                df.at[i,column_name] = np.nan
    return df


initial_nan_dic = df.isna().sum().to_dict()


initial_nan_dic


for column in columns:
    replace_one_nan_with_avge(df,column)


for column in df.columns:
    count_nan = df[column].isna().sum()
    print(f"Column: {column} new Nan {count_nan}, old NAN {initial_nan_dic[column]}")


def replace_many_nan_with_avg(df, column_name):
    for i in range(len(df[column_name])):
        if pd.isna(df[column_name][i]):
            prev_value = None
            next_value = None
            for j in range(i-1, -1, -1):
                if not pd.isna(df[column_name][j]):
                    prev_value = df[column_name][j]
                    break
            for j in range(i+1, len(df[column_name])):
                if not pd.isna(df[column_name][j]):
                    next_value = df[column_name][j]
                    break
            if prev_value is None and next_value is None:
                df[column_name][i] = np.nan
            elif prev_value is None:
                df[column_name][i] = next_value
            elif next_value is None:
                df[column_name][i] = prev_value
            else:
                df[column_name][i] = (prev_value + next_value) / 2
    return df


for column in columns:
    replace_many_nan_with_avg(df,column)

for column in df.columns:
    count_nan = df[column].isna().sum()
    print(f"Column: {column}: new NaN {count_nan}, old NaN {initial_nan_dic[column]}")


df.head()


df.plot(subplots=True, figsize=(15,35))


dft = pd.DataFrame({'values': [4.72, 3.89, 3.75, 4.96, 3.62, 4.68, 4.34, 3.63, 3.54, 6.71, 7.89, 3.58, 3.71, 4.19, 3.4, 3.01, 3.33, 4.36, 3.63, 3.61, 3.23, 4.7, 
                              4.57, 2.84, 2.63, 2.86, 2.86, 2.66, 3.04, 3.06, 2.67, 2.57, 2.9, 2.55, 3.33, 2.58, 2.7, 2.38, 2.71, 2.25, 2.05, 3, 3.12, 2.36, 2.76, 
                              3.52, 3.11, 2.94, 2.73, 2.57, 3.35, 3.07, 2.69, 2.95, 3.14, 3.8, 3.26, 2.91, 3.16, 3.23, 3.07, 3.32, 3.56, 3.35, 3.35, 5.31,7.21, 
                              5.14, 4.11, 8.71, 6.28, 6.27, 4.13, 3.11, 4.46, 3.47, 3.33, 2.9, 3.3, 3.28, 3.3, 3.28]})



WS = 10

dft['rolling_average']=dft['values'].rolling(window=WS).mean()

dft.plot()


WS = 20

dfs=pd.DataFrame()
for column in columns:
    dfs[column] = df[column].rolling(window=WS).mean()

dfs.plot(subplots=True, figsize=(15,35))


def read_las_files(file_list):
    dfs=pd.DataFrame()
    for file in file_list:
        well = lasio.read('Data/LAS/'+file)
        df = well.df()
        dfs=pd.concat([dfs, df], ignore_index=True)
    return dfs


file_list=['210915_IOA_07_BDC-2-04_TD_695.las','210916_IOA_08_BDC-2-04_TD_695.las','210917_IOA_09_BDC-2-04_TD_1171.las','210918_IOA_10_BDC-2-04_TD_1551.las',
        '210919_IOA_11_BDC-2-04_TD_2047.las','210920_IOA_12_BDC-2-04_TD_2261.las','210921_IOA_13_BDC-2-04_TD_2327.las','210922_IOA_14_BDC-2-04_TD_2462.las',
          '210923_IOA_15_BDC-2-04_TD_2516.las','210924_IOA_16_BDC-2-04_TD_2516.las']
df=read_las_files(file_list)



