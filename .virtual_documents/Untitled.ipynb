import lasio
import pandas as pd


las_file_path = 'Data/LAS/Barossa-6_24hrs Time Ascii_010517.LAS'


wellTime1 = lasio.read(las_file_path)


os.getcwd()


os.chdir('C:\\Users\\peter\\Documents\\dataanalytics')


os.getcwd()


wellTime1 = lasio.read(las_file_path)


df1 = wellTime1.df()
df1.head()


df1.head(10)


df1.tail(20)


las_file_path = 'Data/Las/Barossa-6_24hrs Time Ascii_020517.LAS'
wellTime2 = lasio.read(las_file_path)
df2 = wellTime2.df()
df2.head()


df3 = pd.concat([df1,df2])


df3.head()


df3.tail()


df3.head(10).equals(df1.head(10))


type(df1.head())


df3.equals(df1)


df3.tail().equals(df2.tail())


len(df1)


len(df2)


len(df3)


df1.tail(40)


df_reset = df3.reset_index()
df_reset.tail()


df_reset['ETIM'][-200:].plot(kind='line',marker='o',linestyle='-',color='blue')


plt.show()


data = {
    'Depth': [100, 200, 300, 400, 500, 600, 700, 800, 900, 1000],
    'ROP' : [45, 55, 60, 40, 70, 30, 80, 20, 90, 25]
}

df = pd.DataFrame(data)


df.head()


groups = df.groupby(df['ROP']>50)


groups


for name,group in groups:
    print(f"Group name: {name}")
    print(group)


from bs4 import BeautifulSoup


WITSML_file = "Data\\WITSML\\1-2.xml"
with open(WITSML_file) as f:
    print(type(f))
    data = f.read()


type(data)


data_xml = BeautifulSoup(data,'xml')


tags = set([str(tag.name) for tag in data_xml.find_all()])


type(tags)


print("\n".join(tags))


tags_at_level = data_xml.find_all(lambda tag: len(tag.find_parents())==4)


tags_at_level = data_xml.find_all(lambda tag: len(tag.find_parents()) == 4)

df=pd.DataFrame()
ilitho=-1
row={}
for index,tag in enumerate(tags_at_level):
    if tag.name not in df.columns:
        df[tag.name]=0
    if tag.name=="typeLithology":
        ilitho+=1
        if ilitho:
            df=pd.concat([df,pd.DataFrame([row])],ignore_index=True)
            row={}
    try:
        row[tag.name]=float(tag.text)
    except:
        row[tag.name]=tag.text



df.head(10)


df['ropAv']=df['ropAv']*3600


groups = df.groupby(df['ropAv']>10)


type(groups)


groups.get_group(True).head()


type(groups.get_group(True))


groups.get_group(False).head()



