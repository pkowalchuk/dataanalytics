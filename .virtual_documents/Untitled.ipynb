import pandas as pd
import numpy as np


data = {
    'Depth (m)':np.random.uniform(1000,5000,10),
    'Total Vertical Depth (m)': np.random.uniform(1500, 8000, 10),
    'ROP (m/h)': np.random.uniform(5, 25, 10),
    'Weight On Bit Driller (klbm)': np.random.uniform(2000, 6000, 10),
    'Surface Torque (klbf.ft)': np.random.uniform(1000, 4000, 10),
    'Surface RPM': np.random.uniform(80, 150, 10)
} 


print(data)


df=pd.DataFrame(data)


print(df)


high_rop_rows = df[df['ROP (m/h)']>15]


print(high_rop_rows)


import os


print("Working directory: ", os.getcwd())


type(os.getcwd())


type(df)


file_path = 'Data//ASCII//Well-CSV-1_GSS_DDRL_201229_5618.0m_TD.csv'
df = pd.read_csv(file_path)


print(df)


import lasio


las_file_path = 'Data//LAS//Ironbark-1_L601_PWD_FNL_5618_210107.las'


wellDepth = lasio.read(las_file_path)


type(wellDepth)


print(wellDepth)


print(wellDepth.df())


type(wellDepth.df())


las_file_path = 'Data/LAS/Ironbark-1_L601_PWD_FNL_TIME_210107.las'
wellTime = lasio.read(las_file_path)


print(wellTime.df())


from bs4 import BeautifulSoup


WITSML_file = "Data//WITSML//1-1.xml"

with open(WITSML_file) as f:
    data = f.read()


data_xml = BeautifulSoup(data,'xml')


type(data_xml)


temp = set([str(tag.name) for tag in data_xml.find_all()])


type(temp)


temp


columns = ['md', 'tvd', 'incl', 'azi', 'dispNs', 'dispEw']
df = pd.DataFrame()


df


type(df)


for col in columns:
    df[col] = [float(x.text) for x in data_xml.find_all(col)]


df


import matplotlib
matplotlib.use('TkAgg')

import matplotlib.pyplot as plt
from mpl_toolkits.mplot3d import Axes3D


fig = plt.figure()
ax = fig.add_subplot(projection='3d')

ax.plot(df['dispNs'], df['dispEw'], df['tvd']*-1, '-r', linewidth = 2)



ax.get_proj = lambda: np.dot(Axes3D.get_proj(ax), np.diag([0.5, 0.5,1.5, 1]))
 
fig.show()



