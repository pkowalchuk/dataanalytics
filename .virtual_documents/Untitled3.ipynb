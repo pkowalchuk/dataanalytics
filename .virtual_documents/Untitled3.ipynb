import lasio
import pandas as pd
import math
import matplotlib.pyplot as plt


def read_las_files(file_list):
    dfs=pd.DataFrame()
    for file in file_list:
        well = lasio.read('Data/LAS/'+file)
        df = well.df()
        dfs=pd.concat([dfs, df], ignore_index=False)
    return dfs

file_list=['210915_IOA_07_BDC-2-04_TD_695.las','210916_IOA_08_BDC-2-04_TD_695.las','210917_IOA_09_BDC-2-04_TD_1171.las','210918_IOA_10_BDC-2-04_TD_1551.las',
          '210919_IOA_11_BDC-2-04_TD_2047.las','210920_IOA_12_BDC-2-04_TD_2261.las','210921_IOA_13_BDC-2-04_TD_2327.las','210922_IOA_14_BDC-2-04_TD_2462.las',
          '210923_IOA_15_BDC-2-04_TD_2516.las','210924_IOA_16_BDC-2-04_TD_2516.las']
df=read_las_files(file_list)

df.head()


len(df)


df2 = df.loc[:,['TFBA', 'RPMTOTAL','FTAA','FRPI','HDEP']]
df2 = df2.dropna()
df2 = df2.loc[(df2 != 0).all(axis=1)]
len(df2)


BS = 17.5
Bit_Area = (BS**2)*math.pi/4
factor = 0.35

def calculate_MSE(row):
    return (factor / Bit_Area) * (row['TFBA'] + ( 120 * math.pi * row['RPMTOTAL'] * row['FTAA']) / (row['FRPI'] * 3.28084))


df2['MSE'] = df2.apply(calculate_MSE,axis=1)
df2 = df2.dropna()



df2.head()


import matplotlib.pyplot as plt


ax6=plt.subplot2grid((1,5),(0,0),rowspan=1,colspan=1)
ax6.plot("TFBA","HDEP",data=df2)
ax6.invert_yaxis()
ax6.set_title('TFBA - WOB')
ax6.grid()

ax7=plt.subplot2grid((1,5),(0,1),rowspan=1,colspan=1)
ax7.plot("RPMTOTAL","HDEP",data=df2)
ax7.invert_yaxis()
ax7.set_title('RPMTOTAL - RPM')
ax7.grid()

ax8=plt.subplot2grid((1,5),(0,2),rowspan=1,colspan=1)
ax8.plot("FTAA","HDEP",data=df2)
ax8.invert_yaxis()
ax8.set_title('FTAA - Torque')
ax8.grid()

ax9=plt.subplot2grid((1,5),(0,3),rowspan=1,colspan=1)
ax9.plot("FRPI","HDEP",data=df2)
ax9.invert_yaxis()
ax9.set_title('FRPI- ROP')
ax9.grid()

ax10=plt.subplot2grid((1,5),(0,4),rowspan=1,colspan=1)
ax10.plot("MSE","HDEP",data=df2, color='red')
ax10.invert_yaxis()
ax10.set_title('MSE')
ax10.grid()


ax5 = plt.subplot2grid((1,1),(0,0),rowspan=1,colspan=1)
ax5.set_ylim([0, 50])
ax5.set_xlim([0, 150])
ax5.scatter(df2['FRPI'], df2['MSE'])
ax5.set_title('Scatter plot of MSE and FRPI-ROP')
ax5.set_xlabel('FRPI-ROP')
ax5.set_ylabel('MSE')
ax5.grid()


ax5 = plt.subplot2grid((1,1),(0,0),rowspan=1,colspan=1)
ax5.scatter(df2['FTAA'], df2['MSE'])
ax5.set_title('Scatter plot of MSE and FTAA-Torque')
ax5.set_xlabel('FTAA')
ax5.set_ylabel('MSE')
ax5.grid()


ax5 = plt.subplot2grid((1,1),(0,0),rowspan=1,colspan=1)
ax5.scatter(df2['FTAA'], df2['FRPI'])
ax5.set_title('Scatter plot of FRPI and FTAA-Torque')
ax5.set_xlabel('FTAA-Torque')
ax5.set_ylabel('FRPI-ROP')
ax5.grid()


ax5 = plt.subplot2grid((1,1),(0,0),rowspan=1,colspan=1)
ax5.scatter(df2['FTAA'], df2['RPMTOTAL'])
ax5.set_title('Scatter plot of FRPI and RPMTOTAL')
ax5.set_xlabel('RPMTOTAL')
ax5.set_ylabel('FRPI-ROP')
ax5.grid()


ax5 = plt.subplot2grid((1,1),(0,0),rowspan=1,colspan=1)
ax5.scatter(df2['FTAA'], df2['TFBA'])
ax5.set_title('Scatter plot of FRPI and TFBA')
ax5.set_xlabel('TFBA')
ax5.set_ylabel('FRPI-ROP')
ax5.grid()


from sklearn.linear_model import LinearRegression


data = pd.DataFrame({'x':[1,2,3,4,5],'y':[2,3,4,5,6]})


model = LinearRegression()
model.fit(data[['x']],data['y'])


type(model)


y_pred = model.predict(data[['x']])


x = data['x']
y = data['y']
plt.scatter(x, y, color='black')
plt.plot(x, y_pred, color='blue', linewidth=3)
plt.title('Actual vs Predicted')
plt.xlabel('X')
plt.ylabel('Y')
plt.show()


data = pd.DataFrame({'x': [1, 1.5, 2, 3, 3.5, 4, 4.9, 5.5, 5.7, 6.3, 7, 8], 'y': [2, 1.7, 3, 3.5, 4, 5, 5, 5.6, 6.4, 6.1, 7, 8]})

model = LinearRegression()
model.fit(data[['x']], data['y'])
y_pred = model.predict(data[['x']])

x = data['x']
y = data['y']
plt.scatter(x, y, color='black')
plt.plot(x, y_pred, color='blue', linewidth=3)
plt.title('Actual vs Predicted')
plt.xlabel('X')
plt.ylabel('Y')


# Plotting the residuals
residuals = y - y_pred
plt.figure()
plt.scatter(x, residuals, color='red')
plt.axhline(y=0, color='black', linestyle='--')
plt.title('Residual Plot')
plt.xlabel('X')
plt.ylabel('Residuals')
plt.show()


df2 = df.loc[:,['TFBA', 'RPMTOTAL','FTAA','FRPI','HDEP']]


# Creating the dataset
data = df2

# Creating the model
model = LinearRegression()

# Fitting the model
model.fit(data[['RPMTOTAL']], data['FRPI'])

# Getting the R-squared value
r_sq = model.score(data[['RPMTOTAL']], data['FRPI'])
print('Coefficient of determination:', r_sq)

# Predicting the response
y_pred = model.predict(data[['RPMTOTAL']])
print('Predicted response:', y_pred, sep='\n')

# Plotting the actual versus predicted results
x = data['RPMTOTAL']
y = data['FRPI']
plt.scatter(x, y, color='black')
plt.plot(x, y_pred, color='blue', linewidth=3)
plt.title('Actual vs Predicted')
plt.xlabel('WOB')
plt.ylabel('ROP')

# Plotting the residuals
residuals = y - y_pred
plt.figure()
plt.scatter(x, residuals, color='red')
plt.axhline(y=0, color='black', linestyle='--')
plt.title('Residual Plot')
plt.xlabel('WOB')
plt.ylabel('Residuals')
plt.show()



df3 = df2[:-3000]


df3.columns


len(df3)


len(df2)


from sklearn.model_selection import train_test_split
from sklearn.linear_model import LinearRegression, Ridge
from sklearn.preprocessing import PolynomialFeatures
from sklearn.tree import DecisionTreeRegressor
from sklearn.ensemble import RandomForestRegressor
from sklearn.svm import SVR
from sklearn.metrics import mean_squared_error, r2_score


df3.columns


X=df3[['TFBA', 'RPMTOTAL', 'FTAA', 'FRPI', 'HDEP','MSE']]


df3.columns





X=df3[['TFBA', 'RPMTOTAL', 'FTAA','HDEP']]
y=df3['FRPI']


df3.columns


X_train, X_test, y_train, y_test = train_test_split(X, y, test_size=0.3, random_state=42)


models = [LinearRegression(), Ridge(alpha=1.0), Ridge(alpha=10.0), Ridge(alpha=100.0), DecisionTreeRegressor(), RandomForestRegressor(), SVR()]
model_names = ['Linear Regression', 'SVM','Ridge Regression (alpha=10.0)', 'Ridge Regression (alpha=100.0)', 'Decision Tree', 'Random Forest']
for model, name in zip(models, model_names):
    if name == 'SVM':
        model.fit(X_train, y_train)
    else:
        poly = PolynomialFeatures(degree=2)
        X_train_poly = poly.fit_transform(X_train)
        X_test_poly = poly.transform(X_test)
        model.fit(X_train_poly, y_train)
        y_pred = model.predict(X_test_poly)
    if name == 'SVM':
        y_pred = model.predict(X_test)
    mse = mean_squared_error(y_test, y_pred)
    r2 = r2_score(y_test, y_pred)
    print(f'{name} MSE: {mse:.2f}, R2: {r2:.2f}')

    # Plot true ROP vs predicted
    plt.scatter(y_test, y_pred)
    plt.plot([y_test.min(), y_test.max()], [y_test.min(), y_test.max()], 'k--', lw=4)
    plt.xlabel('True ROP')

    plt.ylabel('Predicted ROP')
    plt.title(name)
    plt.show()



